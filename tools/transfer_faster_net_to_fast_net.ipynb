{
 "cells": [
  {
   "cell_type": "markdown",
   "metadata": {},
   "source": [
    "### Setup\n",
    "\n",
    "Import Caffe and the usual modules."
   ]
  },
  {
   "cell_type": "code",
   "execution_count": 1,
   "metadata": {
    "collapsed": false
   },
   "outputs": [],
   "source": [
    "import numpy as np\n",
    "import math\n",
    "import _init_paths\n",
    "import caffe, os, sys, cv2"
   ]
  },
  {
   "cell_type": "markdown",
   "metadata": {},
   "source": [
    "### Configure all the constants\n",
    "\n",
    "Define net path, data path and so on."
   ]
  },
  {
   "cell_type": "code",
   "execution_count": 2,
   "metadata": {
    "collapsed": false
   },
   "outputs": [],
   "source": [
    "FRCNN_ROOT_DIR = '/mnt/wb/project/py-faster-rcnn'\n",
    "\n",
    "NETS = {'fullpose_zf_400k': ('faster_net_to_fast_net',\n",
    "                     'linemod_pose_vis.prototxt',\n",
    "                     'linemod_pose_test.prototxt',\n",
    "                     'linemod_fullpose_zf_2_iter_400000.caffemodel')}\n",
    "\n",
    "GPU_ID = 10\n",
    "\n",
    "fast_prototxt = os.path.join(FRCNN_ROOT_DIR, 'models', NETS['fullpose_zf_400k'][0],\n",
    "                            NETS['fullpose_zf_400k'][1])\n",
    "faster_prototxt = os.path.join(FRCNN_ROOT_DIR, 'models', NETS['fullpose_zf_400k'][0],\n",
    "                            NETS['fullpose_zf_400k'][2])\n",
    "faster_caffemodel = os.path.join(FRCNN_ROOT_DIR, 'models', NETS['fullpose_zf_400k'][0],\n",
    "                              NETS['fullpose_zf_400k'][3])"
   ]
  },
  {
   "cell_type": "markdown",
   "metadata": {},
   "source": [
    "### Load net"
   ]
  },
  {
   "cell_type": "code",
   "execution_count": 3,
   "metadata": {
    "collapsed": false
   },
   "outputs": [],
   "source": [
    "caffe.set_mode_gpu()\n",
    "caffe.set_device(GPU_ID)\n",
    "fast_net = caffe.Net(fast_prototxt, faster_caffemodel, caffe.TEST)\n",
    "fast_net.save('linemod_fullpose_zf_2_iter_400000_fast.caffemodel')"
   ]
  }
 ],
 "metadata": {
  "description": "Extracting features and plotting the Siamese network embedding.",
  "example_name": "Siamese network embedding",
  "include_in_docs": true,
  "kernelspec": {
   "display_name": "Python 2",
   "language": "python",
   "name": "python2"
  },
  "language_info": {
   "codemirror_mode": {
    "name": "ipython",
    "version": 2
   },
   "file_extension": ".py",
   "mimetype": "text/x-python",
   "name": "python",
   "nbconvert_exporter": "python",
   "pygments_lexer": "ipython2",
   "version": "2.7.6"
  },
  "priority": 6
 },
 "nbformat": 4,
 "nbformat_minor": 0
}
